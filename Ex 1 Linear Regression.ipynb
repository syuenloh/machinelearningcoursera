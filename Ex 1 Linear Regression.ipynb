{
 "cells": [
  {
   "cell_type": "code",
   "execution_count": 583,
   "metadata": {
    "collapsed": true
   },
   "outputs": [],
   "source": [
    "#Invaluable guidance from: http://www.johnwittenauer.net/machine-learning-exercises-in-python-part-1/ and https://github.com/ymlai87416/PythonPlayground/blob/master/Python%20notebook/Machine%20learning%20by%20andrew%20ng/machine-learning-ex1/Assignment1.ipynb"
   ]
  },
  {
   "cell_type": "code",
   "execution_count": 584,
   "metadata": {
    "collapsed": true
   },
   "outputs": [],
   "source": [
    "import os  \n",
    "import numpy as np  \n",
    "import pandas as pd  \n",
    "import matplotlib.pyplot as plt  \n",
    "%matplotlib inline"
   ]
  },
  {
   "cell_type": "code",
   "execution_count": 585,
   "metadata": {},
   "outputs": [
    {
     "data": {
      "text/html": [
       "<div>\n",
       "<style>\n",
       "    .dataframe thead tr:only-child th {\n",
       "        text-align: right;\n",
       "    }\n",
       "\n",
       "    .dataframe thead th {\n",
       "        text-align: left;\n",
       "    }\n",
       "\n",
       "    .dataframe tbody tr th {\n",
       "        vertical-align: top;\n",
       "    }\n",
       "</style>\n",
       "<table border=\"1\" class=\"dataframe\">\n",
       "  <thead>\n",
       "    <tr style=\"text-align: right;\">\n",
       "      <th></th>\n",
       "      <th>Population</th>\n",
       "      <th>Profit</th>\n",
       "    </tr>\n",
       "  </thead>\n",
       "  <tbody>\n",
       "    <tr>\n",
       "      <th>0</th>\n",
       "      <td>6.1101</td>\n",
       "      <td>17.5920</td>\n",
       "    </tr>\n",
       "    <tr>\n",
       "      <th>1</th>\n",
       "      <td>5.5277</td>\n",
       "      <td>9.1302</td>\n",
       "    </tr>\n",
       "    <tr>\n",
       "      <th>2</th>\n",
       "      <td>8.5186</td>\n",
       "      <td>13.6620</td>\n",
       "    </tr>\n",
       "    <tr>\n",
       "      <th>3</th>\n",
       "      <td>7.0032</td>\n",
       "      <td>11.8540</td>\n",
       "    </tr>\n",
       "    <tr>\n",
       "      <th>4</th>\n",
       "      <td>5.8598</td>\n",
       "      <td>6.8233</td>\n",
       "    </tr>\n",
       "  </tbody>\n",
       "</table>\n",
       "</div>"
      ],
      "text/plain": [
       "   Population   Profit\n",
       "0      6.1101  17.5920\n",
       "1      5.5277   9.1302\n",
       "2      8.5186  13.6620\n",
       "3      7.0032  11.8540\n",
       "4      5.8598   6.8233"
      ]
     },
     "execution_count": 585,
     "metadata": {},
     "output_type": "execute_result"
    }
   ],
   "source": [
    "#load the data\n",
    "path = 'C:\\\\Users\\kaisyuenl\\Downloads\\machine-learning-ex1\\machine-learning-ex1\\ex1\\ex1data1.txt'  \n",
    "data = pd.read_csv(path, header=None, names=['Population', 'Profit'])  \n",
    "data.head() "
   ]
  },
  {
   "cell_type": "code",
   "execution_count": 586,
   "metadata": {},
   "outputs": [
    {
     "data": {
      "text/plain": [
       "<matplotlib.axes._subplots.AxesSubplot at 0x162f2320>"
      ]
     },
     "execution_count": 586,
     "metadata": {},
     "output_type": "execute_result"
    },
    {
     "data": {
      "image/png": "[encoded data removed]",
      "text/plain": [
       "<matplotlib.figure.Figure at 0x15a879b0>"
      ]
     },
     "metadata": {},
     "output_type": "display_data"
    }
   ],
   "source": [
    "#plot\n",
    "data.plot(kind='scatter', x='Population', y='Profit', figsize=(15,8))  "
   ]
  },
  {
   "cell_type": "code",
   "execution_count": 587,
   "metadata": {},
   "outputs": [],
   "source": [
    "data = np.asmatrix(data)\n",
    "#set training data\n",
    "X = data[:,-1]; y = data[:, -1:]\n",
    "m = len(y)\n",
    "# Add a column of ones to x\n",
    "X = np.c_[np.ones((m, 1)), data[:,0]]\n",
    " # initialize fitting parameters\n",
    "theta = np.zeros((2, 1))            \n",
    "iterations = 1500\n",
    "alpha = 0.01"
   ]
  },
  {
   "cell_type": "code",
   "execution_count": 588,
   "metadata": {
    "collapsed": true
   },
   "outputs": [],
   "source": [
    "#define the cost function\n",
    "def computeCost(X,y,theta):\n",
    "    m=len(y)\n",
    "    J=0\n",
    "    J = sum(np.square((np.matmul(X, theta) - y)))/2/m\n",
    "    return J    "
   ]
  },
  {
   "cell_type": "code",
   "execution_count": 589,
   "metadata": {},
   "outputs": [
    {
     "data": {
      "text/plain": [
       "matrix([[ 32.07273388]])"
      ]
     },
     "execution_count": 589,
     "metadata": {},
     "output_type": "execute_result"
    }
   ],
   "source": [
    "#calculate initial cost with theta initialised to zeroes\n",
    "computeCost(X, y, theta)  "
   ]
  },
  {
   "cell_type": "code",
   "execution_count": 590,
   "metadata": {
    "collapsed": true
   },
   "outputs": [],
   "source": [
    "#define gradient descent function\n",
    "def gradientDescent(X, y, theta, alpha, num_iters):\n",
    "#GRADIENTDESCENT Performs gradient descent to learn theta\n",
    "#   theta = GRADIENTDESCENT(X, y, theta, alpha, num_iters) updates theta by \n",
    "#   taking num_iters gradient steps with learning rate alpha\n",
    "\n",
    "# Initialize some useful values\n",
    "    m = len(y) # number of training examples\n",
    "    J_history = np.zeros((num_iters, 1))\n",
    "\n",
    "    for i in range(num_iters):\n",
    "        theta = theta - alpha*(1.0/m) * np.transpose(X).dot(X.dot(theta) - y)\n",
    "        # Save the cost J in every iteration    \n",
    "        J_history[i] = computeCost(X, y, theta)\n",
    "\n",
    "    return (theta, J_history)"
   ]
  },
  {
   "cell_type": "code",
   "execution_count": 591,
   "metadata": {},
   "outputs": [
    {
     "name": "stdout",
     "output_type": "stream",
     "text": [
      "\n",
      "With theta = [-1 ; 2]\n",
      "Cost computed = 54.242455\n",
      "\n",
      "Expected cost value (approx) 54.24\n",
      "\n",
      "\n",
      "Running Gradient Descent ...\n",
      "\n",
      "Theta found by gradient descent:\n",
      "\n",
      "[[-3.63029144]\n",
      " [ 1.16636235]]\n",
      "Expected theta values (approx)\n",
      "\n",
      " -3.6303\n",
      "  1.1664\n",
      "\n",
      "\n"
     ]
    }
   ],
   "source": [
    "# testing of the cost function further\n",
    "J = computeCost(X, y, np.array([[-1],[2]]))\n",
    "print('\\nWith theta = [-1 ; 2]\\nCost computed = %f\\n' % J)\n",
    "print('Expected cost value (approx) 54.24\\n')\n",
    "\n",
    "print('\\nRunning Gradient Descent ...\\n')\n",
    "# run gradient descent\n",
    "(theta, J_history) = gradientDescent(X, y, theta, alpha, iterations)\n",
    "\n",
    "# print theta to screen\n",
    "print('Theta found by gradient descent:\\n');\n",
    "print(theta)\n",
    "print('Expected theta values (approx)\\n');\n",
    "print(' -3.6303\\n  1.1664\\n\\n');"
   ]
  },
  {
   "cell_type": "code",
   "execution_count": 592,
   "metadata": {},
   "outputs": [
    {
     "data": {
      "text/plain": [
       "matrix([[ 4.48338826]])"
      ]
     },
     "execution_count": 592,
     "metadata": {},
     "output_type": "execute_result"
    }
   ],
   "source": [
    "#compute new cost with model parameters found via gradient descent\n",
    "computeCost(X,y,theta)"
   ]
  },
  {
   "cell_type": "code",
   "execution_count": 593,
   "metadata": {},
   "outputs": [
    {
     "name": "stdout",
     "output_type": "stream",
     "text": [
      "For population = 35,000, we predict a profit of 4519.767868\n",
      "\n",
      "For population = 70,000, we predict a profit of 45342.450129\n",
      "\n"
     ]
    }
   ],
   "source": [
    "# Predict values for population sizes of 35,000 and 70,000\n",
    "predict1 = [1, 3.5]*theta\n",
    "print('For population = 35,000, we predict a profit of %f\\n' % (predict1*10000))\n",
    "predict2 = [1, 7]*theta\n",
    "print('For population = 70,000, we predict a profit of %f\\n' % (predict2*10000))"
   ]
  },
  {
   "cell_type": "code",
   "execution_count": 594,
   "metadata": {},
   "outputs": [
    {
     "data": {
      "text/plain": [
       "<matplotlib.legend.Legend at 0x16ac5f28>"
      ]
     },
     "execution_count": 594,
     "metadata": {},
     "output_type": "execute_result"
    },
    {
     "data": {
      "image/png": "[encoded data removed]",
      "text/plain": [
       "<matplotlib.figure.Figure at 0x16492780>"
      ]
     },
     "metadata": {},
     "output_type": "display_data"
    }
   ],
   "source": [
    "# Plot the linear fit\n",
    "plt.plot(X[:,1], y, 'rx', label='Training data')\n",
    "plt.plot(X[:,1], np.matmul(X, theta), '-' , label='Linear regression')\n",
    "plt.xlabel('Population of City in 10,000s')\n",
    "plt.ylabel('Profit in $10,000s')\n",
    "plt.legend(loc='lower right')"
   ]
  },
  {
   "cell_type": "code",
   "execution_count": 595,
   "metadata": {},
   "outputs": [
    {
     "data": {
      "text/plain": [
       "<matplotlib.text.Text at 0x16a480b8>"
      ]
     },
     "execution_count": 595,
     "metadata": {},
     "output_type": "execute_result"
    },
    {
     "data": {
      "image/png": "[encoded data removed]",
      "text/plain": [
       "<matplotlib.figure.Figure at 0x16479978>"
      ]
     },
     "metadata": {},
     "output_type": "display_data"
    }
   ],
   "source": [
    "#plot the cost decrease at each iteration\n",
    "plt.plot(J_history)\n",
    "plt.xlabel(r'Iteration number')\n",
    "plt.ylabel(r'$J(\\theta)$') "
   ]
  },
  {
   "cell_type": "code",
   "execution_count": 596,
   "metadata": {},
   "outputs": [
    {
     "data": {
      "text/html": [
       "<div>\n",
       "<style>\n",
       "    .dataframe thead tr:only-child th {\n",
       "        text-align: right;\n",
       "    }\n",
       "\n",
       "    .dataframe thead th {\n",
       "        text-align: left;\n",
       "    }\n",
       "\n",
       "    .dataframe tbody tr th {\n",
       "        vertical-align: top;\n",
       "    }\n",
       "</style>\n",
       "<table border=\"1\" class=\"dataframe\">\n",
       "  <thead>\n",
       "    <tr style=\"text-align: right;\">\n",
       "      <th></th>\n",
       "      <th>Size</th>\n",
       "      <th>Bedrooms</th>\n",
       "      <th>Price</th>\n",
       "    </tr>\n",
       "  </thead>\n",
       "  <tbody>\n",
       "    <tr>\n",
       "      <th>0</th>\n",
       "      <td>2104</td>\n",
       "      <td>3</td>\n",
       "      <td>399900</td>\n",
       "    </tr>\n",
       "    <tr>\n",
       "      <th>1</th>\n",
       "      <td>1600</td>\n",
       "      <td>3</td>\n",
       "      <td>329900</td>\n",
       "    </tr>\n",
       "    <tr>\n",
       "      <th>2</th>\n",
       "      <td>2400</td>\n",
       "      <td>3</td>\n",
       "      <td>369000</td>\n",
       "    </tr>\n",
       "    <tr>\n",
       "      <th>3</th>\n",
       "      <td>1416</td>\n",
       "      <td>2</td>\n",
       "      <td>232000</td>\n",
       "    </tr>\n",
       "    <tr>\n",
       "      <th>4</th>\n",
       "      <td>3000</td>\n",
       "      <td>4</td>\n",
       "      <td>539900</td>\n",
       "    </tr>\n",
       "  </tbody>\n",
       "</table>\n",
       "</div>"
      ],
      "text/plain": [
       "   Size  Bedrooms   Price\n",
       "0  2104         3  399900\n",
       "1  1600         3  329900\n",
       "2  2400         3  369000\n",
       "3  1416         2  232000\n",
       "4  3000         4  539900"
      ]
     },
     "execution_count": 596,
     "metadata": {},
     "output_type": "execute_result"
    }
   ],
   "source": [
    "#Linear regression with multiple variables\n",
    "path = 'C:\\\\Users\\kaisyuenl\\Downloads\\machine-learning-ex1\\machine-learning-ex1\\ex1\\ex1data2.txt' \n",
    "data2 = pd.read_csv(path, header=None, names=['Size', 'Bedrooms', 'Price'])  \n",
    "data2.head()"
   ]
  },
  {
   "cell_type": "code",
   "execution_count": 597,
   "metadata": {},
   "outputs": [],
   "source": [
    "data2 = np.asmatrix(data2)\n",
    "#set training data\n",
    "X2 = data2[:,0:-1]; y2 = data2[:, -1:]\n",
    "m=len(y2)        "
   ]
  },
  {
   "cell_type": "code",
   "execution_count": 598,
   "metadata": {},
   "outputs": [
    {
     "name": "stdout",
     "output_type": "stream",
     "text": [
      "First 10 examples from the dataset: \n",
      "\n",
      " x = [1600 3], y = 399900 \n",
      "\n",
      " x = [1600 3], y = 329900 \n",
      "\n",
      " x = [1600 3], y = 369000 \n",
      "\n",
      " x = [1600 2], y = 232000 \n",
      "\n",
      " x = [1600 4], y = 539900 \n",
      "\n",
      " x = [1600 4], y = 299900 \n",
      "\n",
      " x = [1600 3], y = 314900 \n",
      "\n",
      " x = [1600 3], y = 198999 \n",
      "\n",
      " x = [1600 3], y = 212000 \n",
      "\n",
      " x = [1600 3], y = 242500 \n",
      "\n"
     ]
    }
   ],
   "source": [
    "# Print out some data points\n",
    "print('First 10 examples from the dataset: \\n');\n",
    "for i in range(10):\n",
    "    print(' x = [%.0f %.0f], y = %.0f \\n' % (X2[1, 0], X2[i, 1], y2[i, 0]));"
   ]
  },
  {
   "cell_type": "code",
   "execution_count": 599,
   "metadata": {
    "collapsed": true
   },
   "outputs": [],
   "source": [
    "def featureNormalize(X):\n",
    "    \n",
    "    # compute mean and standard deviation\n",
    "    mu = np.mean(X, axis=0)\n",
    "    sigma = np.std(X, axis=0)\n",
    "    \n",
    "    X_norm = (X - mu) / sigma\n",
    "    \n",
    "    return X_norm, mu, sigma"
   ]
  },
  {
   "cell_type": "code",
   "execution_count": 600,
   "metadata": {},
   "outputs": [],
   "source": [
    "# normalize features\n",
    "X2, mu, sigma = featureNormalize(X2)"
   ]
  },
  {
   "cell_type": "code",
   "execution_count": 601,
   "metadata": {
    "collapsed": true
   },
   "outputs": [],
   "source": [
    "# Add intercept term to X2\n",
    "X2 = np.hstack((np.ones((X2.shape[0],1)), X2))\n",
    "#initialise theta\n",
    "theta2 = np.zeros((3, 1))"
   ]
  },
  {
   "cell_type": "code",
   "execution_count": 602,
   "metadata": {},
   "outputs": [],
   "source": [
    "#reuse gradient descent function from previous exercise\n",
    "def gradientDescentMulti(X, y, theta, alpha, num_iters):\n",
    "    return gradientDescent(X, y, theta, alpha, num_iters)"
   ]
  },
  {
   "cell_type": "code",
   "execution_count": 603,
   "metadata": {},
   "outputs": [],
   "source": [
    "# Choose some alpha value\n",
    "alpha = 0.01;\n",
    "num_iters = 400;\n",
    "\n",
    "# Init Theta and Run Gradient Descent \n",
    "(theta, J_history) = gradientDescentMulti(X2, y2, theta2, alpha, num_iters)"
   ]
  },
  {
   "cell_type": "code",
   "execution_count": 604,
   "metadata": {},
   "outputs": [
    {
     "name": "stdout",
     "output_type": "stream",
     "text": [
      "Theta computed from gradient descent: \n",
      "\n",
      "[[ 334302.06399328]\n",
      " [  99411.44947359]\n",
      " [   3267.01285407]]\n",
      "\n",
      "\n"
     ]
    },
    {
     "data": {
      "text/plain": [
       "matrix([[  2.10544829e+09]])"
      ]
     },
     "execution_count": 604,
     "metadata": {},
     "output_type": "execute_result"
    }
   ],
   "source": [
    "# Display gradient descent's result\n",
    "print('Theta computed from gradient descent: \\n');\n",
    "print(theta);\n",
    "print('\\n');\n",
    "\n",
    "#compute cost of gradient descent\n",
    "computeCost(X2,y2,theta)"
   ]
  },
  {
   "cell_type": "code",
   "execution_count": 606,
   "metadata": {},
   "outputs": [
    {
     "data": {
      "text/plain": [
       "<matplotlib.text.Text at 0x16b5a438>"
      ]
     },
     "execution_count": 606,
     "metadata": {},
     "output_type": "execute_result"
    },
    {
     "data": {
      "image/png": "[encoded data removed]",
      "text/plain": [
       "<matplotlib.figure.Figure at 0x170a26d8>"
      ]
     },
     "metadata": {},
     "output_type": "display_data"
    }
   ],
   "source": [
    "# Plot the convergence graph\n",
    "plt.plot(J_history)\n",
    "plt.xlabel(r'Iteration number')\n",
    "plt.ylabel(r'$J(\\theta)$')"
   ]
  },
  {
   "cell_type": "code",
   "execution_count": 607,
   "metadata": {},
   "outputs": [
    {
     "name": "stdout",
     "output_type": "stream",
     "text": [
      "A 1650 sq-ft 3 br house will cost $289221.55\n"
     ]
    }
   ],
   "source": [
    "# Predict the price of a 1650 sq-ft, 3 br house\n",
    "\n",
    "vals = (np.array([1650, 3]) - mu) / sigma\n",
    "vals = np.column_stack((np.ones([1]), vals))\n",
    "\n",
    "predict = np.dot(vals, theta)\n",
    "print('A 1650 sq-ft 3 br house will cost $%6.2f' % predict)"
   ]
  }
 ],
 "metadata": {
  "kernelspec": {
   "display_name": "Python 2",
   "language": "python",
   "name": "python2"
  },
  "language_info": {
   "codemirror_mode": {
    "name": "ipython",
    "version": 2
   },
   "file_extension": ".py",
   "mimetype": "text/x-python",
   "name": "python",
   "nbconvert_exporter": "python",
   "pygments_lexer": "ipython2",
   "version": "2.7.13"
  }
 },
 "nbformat": 4,
 "nbformat_minor": 2
}
